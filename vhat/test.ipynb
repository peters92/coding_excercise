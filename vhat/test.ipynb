{
 "cells": [
  {
   "cell_type": "code",
   "execution_count": null,
   "metadata": {},
   "outputs": [],
   "source": [
    "import numpy as np\n",
    "import pandas as pd\n",
    "from pydantic import BaseModel, Field\n",
    "from typing import Annotated\n",
    "\n",
    "\n",
    "# Type definitions\n",
    "longitude = Annotated[float, Field(ge=-180.0, le=180.0)]\n",
    "latitude = Annotated[float, Field(ge=-90.0, le=90.0)]\n",
    "\n",
    "class Coordinates(BaseModel):\n",
    "    x1: list[longitude]\n",
    "    y1: list[latitude]\n",
    "    x2: list[longitude]\n",
    "    y2: list[latitude]\n",
    "\n",
    "\n",
    "def haversine_distance(coordinates: Coordinates):\n",
    "    coordinate_df = pd.DataFrame(coordinates.model_dump())\n",
    "    coordinate_df[\"haversine_distance\"] = calculate_haversine_vectorized(df=coordinate_df)\n",
    "    return {\"coords\": coordinate_df}\n",
    "\n",
    "\n",
    "def calculate_haversine_vectorized(df: pd.DataFrame) -> pd.Series:\n",
    "    x1, y1, x2, y2 = map(np.radians, [df.x1, df.y1, df.x2, df.y2])\n",
    "\n",
    "    dy = y2 - y1\n",
    "    dx = x2 - x1\n",
    "\n",
    "    a = np.sin(dx / 2.0)**2 + np.cos(x1) * np.cos(x2) * np.sin(dy / 2.0)**2\n",
    "    c = 2 * np.arcsin(np.sqrt(a))\n",
    "    distance = 6378.137 * c # in km\n",
    "    return distance"
   ]
  },
  {
   "cell_type": "code",
   "execution_count": null,
   "metadata": {},
   "outputs": [],
   "source": [
    "test_input = Coordinates(x1=[5.0], y1=[10.0], x2=[6.0], y2=[11.0])\n",
    "haversine_distance(coordinates=test_input)"
   ]
  }
 ],
 "metadata": {
  "kernelspec": {
   "display_name": "vhat-tZlxOJ-r-py3.12",
   "language": "python",
   "name": "python3"
  },
  "language_info": {
   "codemirror_mode": {
    "name": "ipython",
    "version": 3
   },
   "file_extension": ".py",
   "mimetype": "text/x-python",
   "name": "python",
   "nbconvert_exporter": "python",
   "pygments_lexer": "ipython3",
   "version": "3.12.4"
  }
 },
 "nbformat": 4,
 "nbformat_minor": 2
}
